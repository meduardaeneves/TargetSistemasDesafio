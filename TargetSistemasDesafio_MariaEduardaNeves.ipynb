{
  "nbformat": 4,
  "nbformat_minor": 0,
  "metadata": {
    "colab": {
      "provenance": []
    },
    "kernelspec": {
      "name": "python3",
      "display_name": "Python 3"
    },
    "language_info": {
      "name": "python"
    }
  },
  "cells": [
    {
      "cell_type": "markdown",
      "source": [
        "# Importando Bibliotecas Necessárias"
      ],
      "metadata": {
        "id": "4v7Z4pQ_U3Kx"
      }
    },
    {
      "cell_type": "code",
      "execution_count": 112,
      "metadata": {
        "id": "T2pOSYWHSL1B"
      },
      "outputs": [],
      "source": [
        "import json\n",
        "import requests"
      ]
    },
    {
      "cell_type": "markdown",
      "source": [
        "# Download dos dados"
      ],
      "metadata": {
        "id": "njfohR0PU7LX"
      }
    },
    {
      "cell_type": "markdown",
      "source": [
        "- Será utilizada a base de dados no formato .json para resolução dos exercícios"
      ],
      "metadata": {
        "id": "5-Jj4Fy7gnTk"
      }
    },
    {
      "cell_type": "code",
      "source": [
        "link_dados = 'https://raw.githubusercontent.com/meduardaeneves/TargetSistemasDesafio/refs/heads/main/dados.json'"
      ],
      "metadata": {
        "id": "-UBRCKb0SPbd"
      },
      "execution_count": 113,
      "outputs": []
    },
    {
      "cell_type": "code",
      "source": [
        "response = requests.get(link_dados)\n",
        "response.raise_for_status()"
      ],
      "metadata": {
        "id": "DRxkNM1mTKTu"
      },
      "execution_count": 114,
      "outputs": []
    },
    {
      "cell_type": "code",
      "source": [
        "dados = json.loads(response.text)"
      ],
      "metadata": {
        "id": "5ULgiyyJTPcl"
      },
      "execution_count": 115,
      "outputs": []
    },
    {
      "cell_type": "code",
      "source": [
        "dados"
      ],
      "metadata": {
        "colab": {
          "base_uri": "https://localhost:8080/"
        },
        "id": "y5LgKeArSkUR",
        "outputId": "85ac34b5-ae79-480d-e214-951b0f9afc3c"
      },
      "execution_count": 116,
      "outputs": [
        {
          "output_type": "execute_result",
          "data": {
            "text/plain": [
              "[{'dia': 1, 'valor': 22174.1664},\n",
              " {'dia': 2, 'valor': 24537.6698},\n",
              " {'dia': 3, 'valor': 26139.6134},\n",
              " {'dia': 4, 'valor': 0.0},\n",
              " {'dia': 5, 'valor': 0.0},\n",
              " {'dia': 6, 'valor': 26742.6612},\n",
              " {'dia': 7, 'valor': 0.0},\n",
              " {'dia': 8, 'valor': 42889.2258},\n",
              " {'dia': 9, 'valor': 46251.174},\n",
              " {'dia': 10, 'valor': 11191.4722},\n",
              " {'dia': 11, 'valor': 0.0},\n",
              " {'dia': 12, 'valor': 0.0},\n",
              " {'dia': 13, 'valor': 3847.4823},\n",
              " {'dia': 14, 'valor': 373.7838},\n",
              " {'dia': 15, 'valor': 2659.7563},\n",
              " {'dia': 16, 'valor': 48924.2448},\n",
              " {'dia': 17, 'valor': 18419.2614},\n",
              " {'dia': 18, 'valor': 0.0},\n",
              " {'dia': 19, 'valor': 0.0},\n",
              " {'dia': 20, 'valor': 35240.1826},\n",
              " {'dia': 21, 'valor': 43829.1667},\n",
              " {'dia': 22, 'valor': 18235.6852},\n",
              " {'dia': 23, 'valor': 4355.0662},\n",
              " {'dia': 24, 'valor': 13327.1025},\n",
              " {'dia': 25, 'valor': 0.0},\n",
              " {'dia': 26, 'valor': 0.0},\n",
              " {'dia': 27, 'valor': 25681.8318},\n",
              " {'dia': 28, 'valor': 1718.1221},\n",
              " {'dia': 29, 'valor': 13220.495},\n",
              " {'dia': 30, 'valor': 8414.61}]"
            ]
          },
          "metadata": {},
          "execution_count": 116
        }
      ]
    },
    {
      "cell_type": "markdown",
      "source": [
        "# Questão 01"
      ],
      "metadata": {
        "id": "2VTewPqsVbbw"
      }
    },
    {
      "cell_type": "markdown",
      "source": [
        "- O código abaixo tem como objetivo resolver a questão 01, utilizando o while como parâmetro para aumentar o quantitativo dos elementos SOMA  e K"
      ],
      "metadata": {
        "id": "uuB4sXnGguA5"
      }
    },
    {
      "cell_type": "code",
      "source": [
        "indice = 13\n",
        "soma = 0\n",
        "k = 0\n",
        "\n",
        "while k < indice:\n",
        "  k = k + 1\n",
        "  soma = soma + k\n",
        "print(f'Ao final, a variável soma tem valor de {soma}')"
      ],
      "metadata": {
        "colab": {
          "base_uri": "https://localhost:8080/"
        },
        "id": "u3Ik7OabVeUJ",
        "outputId": "57bfca48-f438-48ab-e97a-3e710045d53e"
      },
      "execution_count": 117,
      "outputs": [
        {
          "output_type": "stream",
          "name": "stdout",
          "text": [
            "Ao final, a variável soma tem valor de 91\n"
          ]
        }
      ]
    },
    {
      "cell_type": "markdown",
      "source": [
        "# Questão 02"
      ],
      "metadata": {
        "id": "Glr1gOOZV36w"
      }
    },
    {
      "cell_type": "markdown",
      "source": [
        "- O programa vai solicitar ao usuário 2 valores de números, para investigar a presença, ou não, na sequência de Fibonacci"
      ],
      "metadata": {
        "id": "Cd3JpcUFg02i"
      }
    },
    {
      "cell_type": "code",
      "source": [
        "numero_fibonacci_teste1 = 125\n",
        "numero_fibonacci_teste2 = 144\n",
        "# numero_fibonacci_teste1 = int(input('Escolha um número para sequência de Fibonacci: '))\n",
        "# numero_fibonacci_teste2 = int(input('Escolha um número para sequência de Fibonacci: '))"
      ],
      "metadata": {
        "id": "7H2UgXRPV5Ko"
      },
      "execution_count": 118,
      "outputs": []
    },
    {
      "cell_type": "markdown",
      "source": [
        "- Essa primeira função tem como objetivo verificar se o número passado existe ou não em Fibonacci.\n",
        "- Durante o desenvolvimento dos cálculos, caso o número atual da sequência de Fibonacci seja maior do que o número que foi inputado, o programa vai encerrar retornando FALSE, indicando a não existência na sequência"
      ],
      "metadata": {
        "id": "lLhhMgZXhH1a"
      }
    },
    {
      "cell_type": "code",
      "source": [
        "def sequencia_fibonacci(numero):\n",
        "  if numero == 0 or numero == 1:\n",
        "    return True\n",
        "  else:\n",
        "    valor1 = 0\n",
        "    valor2 = 1\n",
        "    valor_final = valor1 + valor2\n",
        "\n",
        "    while valor_final <= numero:\n",
        "      if valor_final == numero:\n",
        "        return True\n",
        "\n",
        "      valor1 = valor2\n",
        "      valor2 = valor_final\n",
        "      valor_final = valor1 + valor2\n",
        "    return False"
      ],
      "metadata": {
        "id": "yVCKnx2ReaVy"
      },
      "execution_count": 119,
      "outputs": []
    },
    {
      "cell_type": "markdown",
      "source": [
        "- A função abaixo tem como objetivo imprimir o resultado da questão, ou seja, vai imprimir a existência ou não, do número na sequência de Fibonacci, de posse do que foi retornado na função anterior."
      ],
      "metadata": {
        "id": "QLm_-POjg8aa"
      }
    },
    {
      "cell_type": "code",
      "source": [
        "def print_numero_sequencia(numero,existe_ou_nao):\n",
        "  if existe_ou_nao:\n",
        "    existencia = 'existe'\n",
        "  else:\n",
        "    existencia = 'não existe'\n",
        "  print(f'O número \"{numero}\" {existencia} na sequência de Fibonacci.')"
      ],
      "metadata": {
        "id": "0xNYh1VndyUQ"
      },
      "execution_count": 120,
      "outputs": []
    },
    {
      "cell_type": "code",
      "source": [
        "print_numero_sequencia(numero_fibonacci_teste1,sequencia_fibonacci(numero_fibonacci_teste1))\n",
        "print_numero_sequencia(numero_fibonacci_teste2,sequencia_fibonacci(numero_fibonacci_teste2))"
      ],
      "metadata": {
        "colab": {
          "base_uri": "https://localhost:8080/"
        },
        "id": "R097cR0cdrQw",
        "outputId": "595a36f9-6661-45c1-d3c8-65a5fe0a69c4"
      },
      "execution_count": 121,
      "outputs": [
        {
          "output_type": "stream",
          "name": "stdout",
          "text": [
            "O número \"125\" não existe na sequência de Fibonacci.\n",
            "O número \"144\" existe na sequência de Fibonacci.\n"
          ]
        }
      ]
    },
    {
      "cell_type": "markdown",
      "source": [
        "# Questão 03:\n"
      ],
      "metadata": {
        "id": "agGrBBJzWOWZ"
      }
    },
    {
      "cell_type": "code",
      "source": [
        "valor_min_mes = None\n",
        "valor_max_mes = None\n",
        "soma = 0\n",
        "qnt_meses_valido = 0"
      ],
      "metadata": {
        "id": "1AJF0Z7JWcVX"
      },
      "execution_count": 122,
      "outputs": []
    },
    {
      "cell_type": "markdown",
      "source": [
        "- De posse dos dados obtidos através do arquivo JSON fornecido, o código abaixo tem a função de calcular a soma total dos valores, ignorando aqueles que apresentaram um resultado igual a zero\n",
        "- Ademais, ela também vai comparar os valores inseridos, atualizando sempre os valores de máximo e mínimo e calculando quantos dias foram computados (ignorando feriados e fim de semana)"
      ],
      "metadata": {
        "id": "AATydKSUhfgb"
      }
    },
    {
      "cell_type": "code",
      "source": [
        "for valor in dados:\n",
        "  if valor['valor'] == 0:\n",
        "    continue\n",
        "  else:\n",
        "    soma += valor['valor']\n",
        "    qnt_meses_valido += 1\n",
        "    if valor_min_mes is None and valor_max_mes is None:\n",
        "      valor_min_mes = valor['valor']\n",
        "      valor_max_mes = valor['valor']\n",
        "    else:\n",
        "      if valor['valor'] < valor_min_mes:\n",
        "        valor_min_mes = valor['valor']\n",
        "      elif valor['valor'] > valor_max_mes:\n",
        "        valor_max_mes = valor['valor']"
      ],
      "metadata": {
        "id": "oFmPzijZWzIP"
      },
      "execution_count": 123,
      "outputs": []
    },
    {
      "cell_type": "markdown",
      "source": [
        "- De posse das informações calculadas anteriormente, a função abaixo vai calcular a média do faturamento e em sequida vai fazer um novo looping entre os dados, calculando quantos meses apresentaram um valor de faturamento superior à média calculada"
      ],
      "metadata": {
        "id": "PoCEh_0qhwdB"
      }
    },
    {
      "cell_type": "code",
      "source": [
        "media_mes = soma / qnt_meses_valido\n",
        "qnt_mes_superior_media = 0"
      ],
      "metadata": {
        "id": "ZW0AnYEEXw7a"
      },
      "execution_count": 124,
      "outputs": []
    },
    {
      "cell_type": "code",
      "source": [
        "for valor in dados:\n",
        "  if valor['valor'] > media_mes:\n",
        "    qnt_mes_superior_media += 1"
      ],
      "metadata": {
        "id": "LJUiP58MXs6K"
      },
      "execution_count": 125,
      "outputs": []
    },
    {
      "cell_type": "code",
      "source": [
        "print(f'Menor valor de faturamento no mês: R$ {valor_min_mes}')\n",
        "print(f'Maior valor de faturamento no mês: R$ {valor_max_mes}')\n",
        "\n",
        "print(f'\\nMédia de faturamento: R$ {media_mes:.4f}')\n",
        "print(f'Qnt de meses em que o o faturamento superou a média: {qnt_mes_superior_media}')"
      ],
      "metadata": {
        "colab": {
          "base_uri": "https://localhost:8080/"
        },
        "id": "Zo4HXJQhXeIP",
        "outputId": "9eaa8156-8850-4b48-9228-e525f0cf5e4e"
      },
      "execution_count": 126,
      "outputs": [
        {
          "output_type": "stream",
          "name": "stdout",
          "text": [
            "Menor valor de faturamento no mês: R$ 373.7838\n",
            "Maior valor de faturamento no mês: R$ 48924.2448\n",
            "\n",
            "Média de faturamento: R$ 20865.3702\n",
            "Qnt de meses em que o o faturamento superou a média: 10\n"
          ]
        }
      ]
    },
    {
      "cell_type": "markdown",
      "source": [
        "# Questão 04"
      ],
      "metadata": {
        "id": "TjHmmmaAZOHQ"
      }
    },
    {
      "cell_type": "code",
      "source": [
        "faturamento_estados = {\n",
        "    'SP': 67836.43,\n",
        "    'RJ': 36678.66,\n",
        "    'MG': 29229.88,\n",
        "    'ES': 27165.48,\n",
        "    'Outros': 19849.53,\n",
        "}"
      ],
      "metadata": {
        "id": "rRU3wG1iaZvR"
      },
      "execution_count": 127,
      "outputs": []
    },
    {
      "cell_type": "markdown",
      "source": [
        "- Essa primeira função vai ser responsável por, através do dado de entrada de um dicionário, contendo o nome do estado e seu faturamento, retornar o somatório total mensal de uma determinada distribuidora"
      ],
      "metadata": {
        "id": "gwDkT_0NdCF4"
      }
    },
    {
      "cell_type": "code",
      "source": [
        "def calculo_total_faturamento(faturamento_dict):\n",
        "  total_faturamento = 0\n",
        "  for valor in faturamento_dict.values():\n",
        "    total_faturamento += valor\n",
        "  return total_faturamento\n"
      ],
      "metadata": {
        "id": "IIiFMizpaTXR"
      },
      "execution_count": 128,
      "outputs": []
    },
    {
      "cell_type": "code",
      "source": [
        "faturamento_total = calculo_total_faturamento(faturamento_estados)"
      ],
      "metadata": {
        "id": "GBj8pXTza85p"
      },
      "execution_count": 129,
      "outputs": []
    },
    {
      "cell_type": "code",
      "source": [
        "print(f'Total de faturamento: R$ {faturamento_total}')"
      ],
      "metadata": {
        "colab": {
          "base_uri": "https://localhost:8080/"
        },
        "id": "buUg15BabKUx",
        "outputId": "abb0bea7-3a41-45d7-89c2-f0fbcfe84ca3"
      },
      "execution_count": 130,
      "outputs": [
        {
          "output_type": "stream",
          "name": "stdout",
          "text": [
            "Total de faturamento: R$ 180759.98\n"
          ]
        }
      ]
    },
    {
      "cell_type": "markdown",
      "source": [
        "- Em seguida, de posse do valor total acumulado em um mês por determinada distribuidora, a função abaixo tem como objetivo criar um novo dicionário, onde as chaves são os estados existentes, e os valores, o percentual dele, em relação ao total."
      ],
      "metadata": {
        "id": "8Bz42-LndRkR"
      }
    },
    {
      "cell_type": "code",
      "source": [
        "def percentual_faturamento(faturamento_dict, total_faturamento):\n",
        "  percentual_faturamento = {}\n",
        "  for estado, valor in faturamento_dict.items():\n",
        "    percentual_faturamento[estado] = (valor/total_faturamento)*100\n",
        "  return percentual_faturamento"
      ],
      "metadata": {
        "id": "zPRQXd32a4bv"
      },
      "execution_count": 131,
      "outputs": []
    },
    {
      "cell_type": "code",
      "source": [
        "percentual_faturamento = percentual_faturamento(faturamento_estados, faturamento_total)"
      ],
      "metadata": {
        "id": "LQbasBtSbmGa"
      },
      "execution_count": 132,
      "outputs": []
    },
    {
      "cell_type": "code",
      "source": [
        "print('Percentual de faturamento por estado:\\n')\n",
        "\n",
        "for estado, valor in percentual_faturamento.items():\n",
        "  print(f'Percentual de representação de \"{estado}\" dentro do valor total mensal da distribuidora (R$ {faturamento_total}): {valor:.2f} %')"
      ],
      "metadata": {
        "colab": {
          "base_uri": "https://localhost:8080/"
        },
        "id": "DQCBwYGYb9V8",
        "outputId": "58e7d53b-4b7e-479a-ce76-e490f97caefc"
      },
      "execution_count": 133,
      "outputs": [
        {
          "output_type": "stream",
          "name": "stdout",
          "text": [
            "Percentual de faturamento por estado:\n",
            "\n",
            "Percentual de representação de \"SP\" dentro do valor total mensal da distribuidora (R$ 180759.98): 37.53 %\n",
            "Percentual de representação de \"RJ\" dentro do valor total mensal da distribuidora (R$ 180759.98): 20.29 %\n",
            "Percentual de representação de \"MG\" dentro do valor total mensal da distribuidora (R$ 180759.98): 16.17 %\n",
            "Percentual de representação de \"ES\" dentro do valor total mensal da distribuidora (R$ 180759.98): 15.03 %\n",
            "Percentual de representação de \"Outros\" dentro do valor total mensal da distribuidora (R$ 180759.98): 10.98 %\n"
          ]
        }
      ]
    },
    {
      "cell_type": "markdown",
      "source": [
        "# Questão 05"
      ],
      "metadata": {
        "id": "vZ74LQsrZQqm"
      }
    },
    {
      "cell_type": "markdown",
      "source": [
        "- Função desenvolvida abaixo vai passar por todos os caracteres da string e sempre vai adicioná-lo ao início da nova string, que inicou zerada, dessa forma, invertendo-os"
      ],
      "metadata": {
        "id": "1El1SHiHchFp"
      }
    },
    {
      "cell_type": "code",
      "source": [
        "def reverter_string(string):\n",
        "  new_str = ''\n",
        "  for caracter in string:\n",
        "    new_str = caracter + new_str\n",
        "  return new_str"
      ],
      "metadata": {
        "id": "1IaZryvnZYJ5"
      },
      "execution_count": 134,
      "outputs": []
    },
    {
      "cell_type": "code",
      "source": [
        "string_teste = 'Bom dia, meu nome é Maria Eduarda e estou na etapa de teste da empresa \"Target Sistemas\"'"
      ],
      "metadata": {
        "id": "zij4dqQOZp9q"
      },
      "execution_count": 135,
      "outputs": []
    },
    {
      "cell_type": "code",
      "source": [
        "string_reversa = reverter_string(string_teste)"
      ],
      "metadata": {
        "id": "mkhkmLabZykv"
      },
      "execution_count": 136,
      "outputs": []
    },
    {
      "cell_type": "markdown",
      "source": [
        "- Abaixo estão apresentados os resultados dessa questão com um valor de string estabelecido previamente"
      ],
      "metadata": {
        "id": "i78vybRLcr3_"
      }
    },
    {
      "cell_type": "code",
      "source": [
        "print(f'String Original:\\n {string_teste}')\n",
        "print(f'\\nString com caracteres invertidos:\\n {string_reversa}')"
      ],
      "metadata": {
        "colab": {
          "base_uri": "https://localhost:8080/"
        },
        "id": "K3bzOGU7Z2Q3",
        "outputId": "986ff9c4-c669-4117-a828-0a9c3f860d89"
      },
      "execution_count": 137,
      "outputs": [
        {
          "output_type": "stream",
          "name": "stdout",
          "text": [
            "String Original:\n",
            " Bom dia, meu nome é Maria Eduarda e estou na etapa de teste da empresa \"Target Sistemas\"\n",
            "\n",
            "String com caracteres invertidos:\n",
            " \"sametsiS tegraT\" aserpme ad etset ed apate an uotse e adraudE airaM é emon uem ,aid moB\n"
          ]
        }
      ]
    }
  ]
}